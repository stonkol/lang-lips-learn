{
 "cells": [
  {
   "cell_type": "markdown",
   "metadata": {},
   "source": [
    "# Machine Learning\n",
    "\n",
    "### What is?\n",
    "\n",
    "#### AI vs ML vs NN\n",
    "With **AI** you need to write `the rules`\n",
    "\n",
    "With **ML** it can figure it out `the rules` by the inputs you are giving and output the data that should be. It require more data to train a Model.\n",
    "\n",
    "Neural Network (**NN**)(Deep Learning) have more than two layers (input and output), there are multiplier layers and the input data will be transformed throughout the layers until it get an output. A `Multi Stage Information Extraction`. NN is **NOT** modelled after the brain, because we do not how the brains really works, only maybe a little bit inspired.\n",
    "\n",
    "#### Classical vs ML Programming\n",
    "Classical Programming: input `Data`+`Rules` -output-> `Answers`\n",
    "ML Programming: input `Data`+`Answers` -output-> `Rules`\n",
    "\n",
    "ML are not 100% accuracy, but the goal is to have the highest accuracy possible.\n",
    "\n",
    "### Choosing ML\n",
    "[Now](https://www.reddit.com/r/learnmachinelearning/comments/18lpdt2/tensorflow_or_pytorch/) in general `Tensorflow` is no longer preferred. It's either `PyTorch` or `Jax`. `Tensorflow` is a little gentler on the user for an introduction whereas `PyTorch` can screw with new users. \n",
    "\n",
    "Most of the time `Tensorflow` is all you really need. It is unlikely that you will be doing anything outside the standard layer types.\n",
    "\n",
    "The table is based on: [link](https://www.v7labs.com/blog/pytorch-vs-tensorflow)\n",
    "|                       | PyTorch               | TensorFlow (Keras)|\n",
    "| --------------------- | --------------------- | ------------  |\n",
    "| **by**                | Meta                  | Google        |\n",
    "| **Learning curve**    | Higher                | **Lower**     |\n",
    "| **Usage**             | **70%**               | <5%           |\n",
    "| **Available Models**  | **More**              | Less          |\n",
    "| **API Level**         | High                  | Low & High    |\n",
    "| **Oriented**          | Research              | Production    |\n",
    "| **Pros**              | **Wide adoption** by the AI research community. Trending and Gaining Traction. Used by Top Academic institutions. | More complete production ecosystem with TensorFlow Serving, TFLite, TFX, and multiple language support. Keras allows rapid experimentation. You can build MLOps pipelines with TFX. |\n",
    "| **Cons**               | Not as complete in terms of production-ready tools for end-to-end projects.| Small research community. Less compatible Transformer models on HuggingFace.      |\n",
    "| **Programming Language Availability**   | Python     | Python, Javascript, C++, Java, _(Go, Swift)_  |\n",
    "| **Key Characteristics**| Very Pythonic and flexible.     | Fast model creation and deployment.|\n",
    "| **Difficulty**         | Steeper learning curve. Very intuitive once you learn it. | Very easy if Keras is used for modeling. Otherwise, it has a steep learning curve.   |\n",
    "| **Popularity**         | It’s gaining huge popularity both among researchers and practitioners in the industry. | It still remains the most popular deep learning framework. _(171k vs. 62.6k in GitHub stars)_ |\n",
    "| **Trending**           | Big influx of new users over the last years.  | Not trending anymore.|\n",
    "| **Ecosystem**          | Rich ecosystem, mostly maintained by the community, oriented towards research and modeling. | Rich native ecosystem, mostly oriented towards production MLOps. |\n",
    "\n",
    "> [!NOTE] Adaptation is key to surviving in what is probably the fastest-moving industry at the moment. Don’t get too fixated on a single framework or tool; it's important to be proficient in multiple technologies and understand their pros and cons. *Not all problems are nails, so not every tool should be a hammer!*\n",
    "\n",
    "\n",
    "[Exploring Deep Learning Frameworks: PyTorch vs. TensorFlow](https://medium.com/@ghostsmaw/exploring-deep-learning-frameworks-pytorch-vs-tensorflow-1089d2cb9580)\n",
    "\n",
    "### ML on macOS\n",
    "\n",
    "Setup Mac for Machine Learning with TensorFlow [yt video](https://www.youtube.com/watch?app=desktop&v=_1CaUOHhI6U). [Instructions and code](https://www.youtube.com/watch?app=desktop&v=_1CaUOHhI6U) of the video. Some of the steps that it has:\n",
    "1. It set up a conda virtual environment for running ML\n",
    "1. Install base TensorFlow ([Apple's fork](https://developer.apple.com/metal/tensorflow-plugin/) of TensorFlow is called `tensorflow-macos`).\n",
    "1. Install apple silicon dependencies for Tensorflow.\n",
    "1. Install Tensorflow Metal\n",
    "1. (Optional) Install TensorFlow Datasets to run benchmarks\n",
    "1. Install common data science packages. \n",
    "1. Start Jupyter Notebook. `$ jupyter notebook`\n",
    "\n",
    "> I have errors after I start Jupyter Notebook, I enter `$ pip3 install chardet` for solving the problem.\n",
    "8. Then I can create a new NoteBook\n",
    "9. Import dependencies and check TensorFlow version/GPU access."
   ]
  },
  {
   "cell_type": "code",
   "execution_count": null,
   "metadata": {},
   "outputs": [],
   "source": [
    "import numpy as np\n",
    "import pandas as pd\n",
    "import sklearn\n",
    "import tensorflow as tf\n",
    "import matplotlib.pyplot as plt\n",
    "\n",
    "# Check for TensorFlow GPU access\n",
    "print(f\"TensorFlow has access to the following devices:\\n{tf.config.list_physical_devices()}\")\n",
    "\n",
    "# See TensorFlow version\n",
    "print(f\"TensorFlow version: {tf.__version__}\")"
   ]
  },
  {
   "cell_type": "markdown",
   "metadata": {},
   "source": [
    "10. It will return: \n",
    "\n",
    "    TensorFlow has access to the following devices:\n",
    "    [PhysicalDevice(name='/physical_device:CPU:0', device_type='CPU'), PhysicalDevice(name='/physical_device:GPU:0', device_type='GPU')]\n",
    "    TensorFlow version: 2.15.0\n",
    "    - Tensorflow Metal [repo](https://pypi.org/project/tensorflow-metal/), to check if you have the latest version\n",
    "11. After finished, go to File > Shut Down (you should do this in the note and also in the jupyter file manager page)\n",
    "12. Exit \"Base\" environment:\" `$ conda config --set auto_activate_base false`. this will make conda's base environment not be activated on startup. \n",
    "13. Restart the terminal."
   ]
  },
  {
   "cell_type": "markdown",
   "metadata": {},
   "source": [
    "#### Terminology\n",
    "\n",
    "Feature = Input data\n",
    "Label = Output information"
   ]
  },
  {
   "cell_type": "markdown",
   "metadata": {},
   "source": [
    "## Learn + Resources\n",
    "\n",
    "1. Hands-On Machine Learning (Book)\n",
    "1. deeplearning.ai (courses)\n",
    "1. ML theory [coursera](https://www.coursera.org/specializations/machine-learning-introduction)\n",
    "1. The official Tensorflow [tutorial](https://www.tensorflow.org/tutorials). It is a bunch of Colab notebooks that give you the necessary code to get simple models running. The tutorials are one of the best resources to get clean code for Tensorflow in my opinion.\n",
    "1. This is a professional certificate on [coursera](https://www.coursera.org/professional-certificates/tensorflow-in-practice) that can help you dive directly into tensorflow with many basic tensorflow application examples.\n",
    "1. This [Kaggle](https://www.kaggle.com/learn/deep-learning) mini-course is also quite helpful to get some practice for Tensorflow. You also get a free certificate on completion!\n",
    "1. This is a [blog](https://www.pyimagesearch.com/) whose main focus is on Computer Vision applications of Deep Learning. The author gives out a lot of free reading material that has helped me a lot in making Computer Vision models. His content is quite engaging as well."
   ]
  }
 ],
 "metadata": {
  "language_info": {
   "name": "python"
  }
 },
 "nbformat": 4,
 "nbformat_minor": 2
}
